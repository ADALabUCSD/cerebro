{
 "cells": [
  {
   "cell_type": "code",
   "execution_count": 1,
   "id": "9fe239c9",
   "metadata": {},
   "outputs": [],
   "source": [
    "import numpy as np\n",
    "import tensorflow as tf\n",
    "from tensorflow.keras.datasets import mnist\n",
    "from keras_tuner import HyperParameters\n",
    "\n",
    "import autokeras as ak\n",
    "\n",
    "from cerebro.nas.hphpmodel import HyperHyperModel\n",
    "import pandas as pd"
   ]
  },
  {
   "cell_type": "code",
   "execution_count": 2,
   "id": "a462657f",
   "metadata": {},
   "outputs": [],
   "source": [
    "df = pd.read_csv(\"/Users/zijian/Desktop/ucsd/cse234/project/cerebro-system/Iris_clean.csv\", header='infer')\n",
    "\n",
    "train=df.sample(frac=0.8,random_state=200) #random state is a seed value\n",
    "test=df.drop(train.index)\n",
    "\n",
    "feature_columns = ['SepalLengthCm', 'SepalWidthCm', 'PetalLengthCm', 'PetalWidthCm']\n",
    "x_train = train[feature_columns]\n",
    "y_train = train['Species']"
   ]
  },
  {
   "cell_type": "code",
   "execution_count": 3,
   "id": "7b6918a2",
   "metadata": {},
   "outputs": [
    {
     "data": {
      "text/plain": [
       "SepalLengthCm    float64\n",
       "SepalWidthCm     float64\n",
       "PetalLengthCm    float64\n",
       "PetalWidthCm     float64\n",
       "Species            int64\n",
       "dtype: object"
      ]
     },
     "execution_count": 3,
     "metadata": {},
     "output_type": "execute_result"
    }
   ],
   "source": [
    "train.dtypes"
   ]
  },
  {
   "cell_type": "code",
   "execution_count": 4,
   "id": "3148db32",
   "metadata": {},
   "outputs": [
    {
     "name": "stdout",
     "output_type": "stream",
     "text": [
      "INFO:tensorflow:Reloading Oracle from existing project ./auto_model/oracle.json\n",
      "INFO:tensorflow:Reloading Tuner from ./auto_model/tuner0.json\n"
     ]
    }
   ],
   "source": [
    "input_node = [ak.StructuredDataInput() for c in feature_columns]\n",
    "embeddings = [ak.StructuredDataBlock()(innode) for innode in input_node]\n",
    "output_node = ak.Merge()([embeddings])\n",
    "output_node = ak.ClassificationHead()(output_node)\n",
    "clf = ak.AutoModel(\n",
    "    inputs=input_node, \n",
    "    outputs=output_node, \n",
    "    max_trials=20, \n",
    "    tuner='random',\n",
    "    objective=\"val_loss\",\n",
    ")"
   ]
  },
  {
   "cell_type": "code",
   "execution_count": 5,
   "id": "5def6931",
   "metadata": {},
   "outputs": [],
   "source": [
    "x = [x_train[[feature]] for feature in feature_columns]"
   ]
  },
  {
   "cell_type": "code",
   "execution_count": 6,
   "id": "c925f973",
   "metadata": {},
   "outputs": [
    {
     "name": "stderr",
     "output_type": "stream",
     "text": [
      "2021-11-21 20:00:57.358877: I tensorflow/compiler/jit/xla_cpu_device.cc:41] Not creating XLA devices, tf_xla_enable_xla_devices not set\n",
      "2021-11-21 20:00:57.359089: I tensorflow/core/platform/cpu_feature_guard.cc:142] This TensorFlow binary is optimized with oneAPI Deep Neural Network Library (oneDNN) to use the following CPU instructions in performance-critical operations:  AVX2 FMA\n",
      "To enable them in other operations, rebuild TensorFlow with the appropriate compiler flags.\n",
      "2021-11-21 20:00:57.414353: I tensorflow/compiler/mlir/mlir_graph_optimization_pass.cc:116] None of the MLIR optimization passes are enabled (registered 2)\n"
     ]
    },
    {
     "name": "stdout",
     "output_type": "stream",
     "text": [
      "INFO:tensorflow:Oracle triggered exit\n",
      "Epoch 1/5\n",
      "4/4 [==============================] - 1s 4ms/step - loss: 2.7632 - accuracy: 0.4108\n",
      "Epoch 2/5\n",
      "4/4 [==============================] - 0s 5ms/step - loss: 1.7395 - accuracy: 0.7298\n",
      "Epoch 3/5\n",
      "4/4 [==============================] - 0s 4ms/step - loss: 0.4312 - accuracy: 0.9413\n",
      "Epoch 4/5\n",
      "4/4 [==============================] - 0s 4ms/step - loss: 0.4460 - accuracy: 0.9188\n",
      "Epoch 5/5\n",
      "4/4 [==============================] - 0s 4ms/step - loss: 0.4229 - accuracy: 0.9073\n"
     ]
    },
    {
     "name": "stderr",
     "output_type": "stream",
     "text": [
      "2021-11-21 20:01:01.610706: W tensorflow/python/util/util.cc:348] Sets are not currently considered sequences, but this may change in the future, so consider avoiding using them.\n"
     ]
    },
    {
     "name": "stdout",
     "output_type": "stream",
     "text": [
      "INFO:tensorflow:Assets written to: ./auto_model/best_model/assets\n"
     ]
    },
    {
     "data": {
      "text/plain": [
       "<tensorflow.python.keras.callbacks.History at 0x187294350>"
      ]
     },
     "execution_count": 6,
     "metadata": {},
     "output_type": "execute_result"
    }
   ],
   "source": [
    "clf.fit(\n",
    "    x,\n",
    "    y_train,\n",
    "    # The name of the label column.\n",
    "    epochs=5,\n",
    ")"
   ]
  },
  {
   "cell_type": "code",
   "execution_count": 7,
   "id": "dba8cfdd",
   "metadata": {},
   "outputs": [],
   "source": [
    "model = clf.tuner.get_best_model()"
   ]
  },
  {
   "cell_type": "code",
   "execution_count": 8,
   "id": "6461c25b",
   "metadata": {},
   "outputs": [
    {
     "name": "stdout",
     "output_type": "stream",
     "text": [
      "Model: \"model\"\n",
      "__________________________________________________________________________________________________\n",
      "Layer (type)                    Output Shape         Param #     Connected to                     \n",
      "==================================================================================================\n",
      "input_3 (InputLayer)            [(None, 1)]          0                                            \n",
      "__________________________________________________________________________________________________\n",
      "multi_category_encoding_2 (Mult (None, 1)            0           input_3[0][0]                    \n",
      "__________________________________________________________________________________________________\n",
      "normalization_1 (Normalization) (None, 1)            3           multi_category_encoding_2[0][0]  \n",
      "__________________________________________________________________________________________________\n",
      "input_2 (InputLayer)            [(None, 1)]          0                                            \n",
      "__________________________________________________________________________________________________\n",
      "dense_3 (Dense)                 (None, 64)           128         normalization_1[0][0]            \n",
      "__________________________________________________________________________________________________\n",
      "multi_category_encoding_1 (Mult (None, 1)            0           input_2[0][0]                    \n",
      "__________________________________________________________________________________________________\n",
      "re_lu_3 (ReLU)                  (None, 64)           0           dense_3[0][0]                    \n",
      "__________________________________________________________________________________________________\n",
      "normalization (Normalization)   (None, 1)            3           multi_category_encoding_1[0][0]  \n",
      "__________________________________________________________________________________________________\n",
      "dropout (Dropout)               (None, 64)           0           re_lu_3[0][0]                    \n",
      "__________________________________________________________________________________________________\n",
      "input_4 (InputLayer)            [(None, 1)]          0                                            \n",
      "__________________________________________________________________________________________________\n",
      "dense_1 (Dense)                 (None, 64)           128         normalization[0][0]              \n",
      "__________________________________________________________________________________________________\n",
      "dense_4 (Dense)                 (None, 64)           4160        dropout[0][0]                    \n",
      "__________________________________________________________________________________________________\n",
      "multi_category_encoding_3 (Mult (None, 1)            0           input_4[0][0]                    \n",
      "__________________________________________________________________________________________________\n",
      "batch_normalization (BatchNorma (None, 64)           256         dense_1[0][0]                    \n",
      "__________________________________________________________________________________________________\n",
      "re_lu_4 (ReLU)                  (None, 64)           0           dense_4[0][0]                    \n",
      "__________________________________________________________________________________________________\n",
      "normalization_2 (Normalization) (None, 1)            3           multi_category_encoding_3[0][0]  \n",
      "__________________________________________________________________________________________________\n",
      "input_1 (InputLayer)            [(None, 1)]          0                                            \n",
      "__________________________________________________________________________________________________\n",
      "re_lu_1 (ReLU)                  (None, 64)           0           batch_normalization[0][0]        \n",
      "__________________________________________________________________________________________________\n",
      "dropout_1 (Dropout)             (None, 64)           0           re_lu_4[0][0]                    \n",
      "__________________________________________________________________________________________________\n",
      "dense_6 (Dense)                 (None, 32)           64          normalization_2[0][0]            \n",
      "__________________________________________________________________________________________________\n",
      "multi_category_encoding (MultiC (None, 1)            0           input_1[0][0]                    \n",
      "__________________________________________________________________________________________________\n",
      "dense_2 (Dense)                 (None, 256)          16640       re_lu_1[0][0]                    \n",
      "__________________________________________________________________________________________________\n",
      "dense_5 (Dense)                 (None, 256)          16640       dropout_1[0][0]                  \n",
      "__________________________________________________________________________________________________\n",
      "batch_normalization_2 (BatchNor (None, 32)           128         dense_6[0][0]                    \n",
      "__________________________________________________________________________________________________\n",
      "dense (Dense)                   (None, 512)          1024        multi_category_encoding[0][0]    \n",
      "__________________________________________________________________________________________________\n",
      "batch_normalization_1 (BatchNor (None, 256)          1024        dense_2[0][0]                    \n",
      "__________________________________________________________________________________________________\n",
      "re_lu_5 (ReLU)                  (None, 256)          0           dense_5[0][0]                    \n",
      "__________________________________________________________________________________________________\n",
      "re_lu_6 (ReLU)                  (None, 32)           0           batch_normalization_2[0][0]      \n",
      "__________________________________________________________________________________________________\n",
      "re_lu (ReLU)                    (None, 512)          0           dense[0][0]                      \n",
      "__________________________________________________________________________________________________\n",
      "re_lu_2 (ReLU)                  (None, 256)          0           batch_normalization_1[0][0]      \n",
      "__________________________________________________________________________________________________\n",
      "dropout_2 (Dropout)             (None, 256)          0           re_lu_5[0][0]                    \n",
      "__________________________________________________________________________________________________\n",
      "dropout_3 (Dropout)             (None, 32)           0           re_lu_6[0][0]                    \n",
      "__________________________________________________________________________________________________\n",
      "concatenate (Concatenate)       (None, 1056)         0           re_lu[0][0]                      \n",
      "                                                                 re_lu_2[0][0]                    \n",
      "                                                                 dropout_2[0][0]                  \n",
      "                                                                 dropout_3[0][0]                  \n",
      "__________________________________________________________________________________________________\n",
      "dense_7 (Dense)                 (None, 3)            3171        concatenate[0][0]                \n",
      "__________________________________________________________________________________________________\n",
      "classification_head_1 (Softmax) (None, 3)            0           dense_7[0][0]                    \n",
      "==================================================================================================\n",
      "Total params: 43,372\n",
      "Trainable params: 42,659\n",
      "Non-trainable params: 713\n",
      "__________________________________________________________________________________________________\n"
     ]
    }
   ],
   "source": [
    "model.summary()"
   ]
  },
  {
   "cell_type": "code",
   "execution_count": 11,
   "id": "6e7d1368",
   "metadata": {},
   "outputs": [
    {
     "data": {
      "text/plain": [
       "array([0, 0, 0, 0, 0, 0, 0, 0, 1, 1])"
      ]
     },
     "execution_count": 11,
     "metadata": {},
     "output_type": "execute_result"
    }
   ],
   "source": [
    "x_test = test[feature_columns]\n",
    "y_test = test['Species']\n",
    "\n",
    "x_test = np.array(x_test)\n",
    "x_test = [x_test[:,i,np.newaxis] for i in range(x_test.shape[1])]\n",
    "y_test = np.array(y_test)\n",
    "y_test[:10]"
   ]
  },
  {
   "cell_type": "code",
   "execution_count": 12,
   "id": "4f72e9e2",
   "metadata": {},
   "outputs": [
    {
     "data": {
      "text/plain": [
       "array([[1.00000000e+00, 5.81818187e-12, 1.38920356e-13],\n",
       "       [1.00000000e+00, 6.91627117e-21, 1.74427243e-11],\n",
       "       [9.99997139e-01, 2.34918322e-34, 2.85116948e-06],\n",
       "       [9.99996424e-01, 3.28661191e-31, 3.58094326e-06],\n",
       "       [1.00000000e+00, 2.59460422e-15, 4.50647519e-09],\n",
       "       [1.00000000e+00, 5.98095217e-19, 1.46587054e-09],\n",
       "       [1.00000000e+00, 3.27511533e-20, 1.07206148e-16],\n",
       "       [1.00000000e+00, 2.48271475e-20, 1.03590746e-16],\n",
       "       [1.06542777e-14, 2.44966905e-05, 9.99975562e-01],\n",
       "       [4.86013543e-22, 9.86436069e-01, 1.35639487e-02],\n",
       "       [1.61351650e-16, 5.96532912e-09, 1.00000000e+00],\n",
       "       [1.42609300e-32, 9.98998225e-01, 1.00173661e-03],\n",
       "       [1.39117623e-15, 9.52642552e-07, 9.99999046e-01],\n",
       "       [3.84483914e-22, 9.92197454e-01, 7.80249853e-03],\n",
       "       [4.86539571e-18, 1.89894184e-01, 8.10105860e-01],\n",
       "       [4.77830746e-22, 9.99949574e-01, 5.04367490e-05],\n",
       "       [5.31651115e-17, 6.26253346e-12, 1.00000000e+00],\n",
       "       [5.39565920e-25, 9.99507666e-01, 4.92273306e-04],\n",
       "       [2.96135430e-22, 6.83678954e-04, 9.99316335e-01],\n",
       "       [4.92112485e-25, 9.69479203e-01, 3.05207837e-02],\n",
       "       [8.01589557e-19, 1.18112276e-08, 1.00000000e+00],\n",
       "       [1.93205382e-18, 3.19560692e-02, 9.68043923e-01],\n",
       "       [6.83507224e-20, 7.14393655e-09, 1.00000000e+00],\n",
       "       [6.82771990e-19, 1.12933956e-01, 8.87066007e-01],\n",
       "       [1.82690128e-24, 9.77784753e-01, 2.22152714e-02],\n",
       "       [3.54564815e-17, 9.27091166e-02, 9.07290876e-01],\n",
       "       [3.59829067e-18, 4.17933588e-05, 9.99958158e-01],\n",
       "       [2.25412586e-23, 5.94089091e-01, 4.05910909e-01],\n",
       "       [1.28443733e-20, 1.81891525e-03, 9.98181105e-01],\n",
       "       [4.61245577e-19, 1.42112458e-02, 9.85788763e-01]], dtype=float32)"
      ]
     },
     "execution_count": 12,
     "metadata": {},
     "output_type": "execute_result"
    }
   ],
   "source": [
    "model.predict(x_test)"
   ]
  },
  {
   "cell_type": "code",
   "execution_count": null,
   "id": "eb12e627",
   "metadata": {},
   "outputs": [],
   "source": []
  }
 ],
 "metadata": {
  "kernelspec": {
   "display_name": "Python 3 (ipykernel)",
   "language": "python",
   "name": "python3"
  },
  "language_info": {
   "codemirror_mode": {
    "name": "ipython",
    "version": 3
   },
   "file_extension": ".py",
   "mimetype": "text/x-python",
   "name": "python",
   "nbconvert_exporter": "python",
   "pygments_lexer": "ipython3",
   "version": "3.7.6"
  }
 },
 "nbformat": 4,
 "nbformat_minor": 5
}
